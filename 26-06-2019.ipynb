{
 "cells": [
  {
   "cell_type": "markdown",
   "metadata": {},
   "source": [
    "# Boolean Method"
   ]
  },
  {
   "cell_type": "code",
   "execution_count": 4,
   "metadata": {},
   "outputs": [
    {
     "name": "stdout",
     "output_type": "stream",
     "text": [
      "False\n",
      "True\n"
     ]
    }
   ],
   "source": [
    "s = \"python is Easy Programing to learn and intersting\"\n",
    "s1 = \"python\"\n",
    "print(s.islower())\n",
    "print(s1.islower())"
   ]
  },
  {
   "cell_type": "code",
   "execution_count": 6,
   "metadata": {},
   "outputs": [
    {
     "name": "stdout",
     "output_type": "stream",
     "text": [
      "False\n",
      "True\n"
     ]
    }
   ],
   "source": [
    "s = \"Applicaton\"\n",
    "s1 ='ANIL'\n",
    "print(s.isupper())\n",
    "print(s1.isupper())"
   ]
  },
  {
   "cell_type": "code",
   "execution_count": 8,
   "metadata": {},
   "outputs": [
    {
     "name": "stdout",
     "output_type": "stream",
     "text": [
      "True\n",
      "False\n"
     ]
    }
   ],
   "source": [
    "s = \"5678\"\n",
    "s1 = \"App1889\"\n",
    "print(s.isnumeric())\n",
    "print(s1.isnumeric())"
   ]
  },
  {
   "cell_type": "code",
   "execution_count": 10,
   "metadata": {
    "scrolled": true
   },
   "outputs": [
    {
     "name": "stdout",
     "output_type": "stream",
     "text": [
      "True\n",
      "False\n"
     ]
    }
   ],
   "source": [
    "s = \"Application\"\n",
    "s1 = \"App1889\"\n",
    "print(s.isalpha())\n",
    "print(s1.isalpha())"
   ]
  },
  {
   "cell_type": "code",
   "execution_count": 26,
   "metadata": {},
   "outputs": [
    {
     "name": "stdout",
     "output_type": "stream",
     "text": [
      "False\n",
      "False\n"
     ]
    }
   ],
   "source": [
    "s = \"Python programming\"\n",
    "s1 = \"Python programming\"\n",
    "print(s.istitle())\n",
    "print(s1.istitle())"
   ]
  },
  {
   "cell_type": "code",
   "execution_count": 16,
   "metadata": {},
   "outputs": [
    {
     "name": "stdout",
     "output_type": "stream",
     "text": [
      "False\n"
     ]
    }
   ],
   "source": [
    "s = \"Python\"\n",
    "print(s.isspace())"
   ]
  },
  {
   "cell_type": "code",
   "execution_count": 22,
   "metadata": {},
   "outputs": [
    {
     "name": "stdout",
     "output_type": "stream",
     "text": [
      "False\n",
      "False\n"
     ]
    }
   ],
   "source": [
    "s = \"Py th on\"\n",
    "print(s.isspace())\n",
    "print(s1.isspace())"
   ]
  },
  {
   "cell_type": "markdown",
   "metadata": {},
   "source": [
    "### STRING METHODS \n",
    "1.join()\n",
    "2.split()\n",
    "3.replace()"
   ]
  },
  {
   "cell_type": "code",
   "execution_count": 20,
   "metadata": {},
   "outputs": [
    {
     "name": "stdout",
     "output_type": "stream",
     "text": [
      "P  y  t  h  o  n\n"
     ]
    }
   ],
   "source": [
    "str = \"Python\"\n",
    "print(\"  \".join(str))"
   ]
  },
  {
   "cell_type": "code",
   "execution_count": 21,
   "metadata": {},
   "outputs": [
    {
     "name": "stdout",
     "output_type": "stream",
     "text": [
      "Python,Programming,Easy\n"
     ]
    }
   ],
   "source": [
    "print(\",\".join([\"Python\",\"Programming\",\"Easy\"]))\n"
   ]
  },
  {
   "cell_type": "code",
   "execution_count": 25,
   "metadata": {},
   "outputs": [
    {
     "name": "stdout",
     "output_type": "stream",
     "text": [
      ",\n"
     ]
    }
   ],
   "source": [
    "lst = [\"\",\"\"]\n",
    "print(\",\".join(lst))"
   ]
  },
  {
   "cell_type": "code",
   "execution_count": 38,
   "metadata": {},
   "outputs": [
    {
     "name": "stdout",
     "output_type": "stream",
     "text": [
      "['Python', 'Programming', 'is', 'easy', 'to', 'learn']\n",
      "['Python Progr', 'mming is e', 'sy to le', 'rn']\n"
     ]
    }
   ],
   "source": [
    "s = \"Python Programming is easy to learn\"\n",
    "print(s.split())\n",
    "print(s.split(\"a\"))"
   ]
  },
  {
   "cell_type": "code",
   "execution_count": 54,
   "metadata": {},
   "outputs": [
    {
     "name": "stdout",
     "output_type": "stream",
     "text": [
      "['python,', 'programming', ',is', ',easy,', 'to', ',learn']\n",
      "['python, progr', 'mming ,is ,e', 'sy, to ,le', 'rn']\n",
      "['python', ' programming ', 'is ', 'easy', ' to ', 'learn']\n"
     ]
    }
   ],
   "source": [
    "s=\"python, programming ,is ,easy, to ,learn\"\n",
    "print(s.split())\n",
    "print(s.split(\"a\"))\n",
    "print(s.split(\",\"))\n"
   ]
  },
  {
   "cell_type": "code",
   "execution_count": 44,
   "metadata": {},
   "outputs": [
    {
     "name": "stdout",
     "output_type": "stream",
     "text": [
      "['python', 'programming', 'is', 'easy', 'to', 'learn']\n",
      "2\n"
     ]
    }
   ],
   "source": [
    "s=\"python programming is easy to learn\"\n",
    "lst = s.split()\n",
    "print(lst)\n",
    "print(lst.index(\"is\"))\n"
   ]
  },
  {
   "cell_type": "code",
   "execution_count": 50,
   "metadata": {},
   "outputs": [
    {
     "name": "stdout",
     "output_type": "stream",
     "text": [
      "['p', 'y', 't', 'h', 'o', 'n', ' ', 'p', 'r', 'o', 'g', 'r', 'a', 'm', 'm', 'i', 'n', 'g', ' ', 'i', 's', ' ', 'e', 'a', 's', 'y', ' ', 't', 'o', ' ', 'l', 'e', 'a', 'r', 'n']\n"
     ]
    }
   ],
   "source": [
    "s=\"python programming is easy to learn\"\n",
    "lst = list(s)\n",
    "print(lst)"
   ]
  },
  {
   "cell_type": "code",
   "execution_count": 53,
   "metadata": {},
   "outputs": [
    {
     "name": "stdout",
     "output_type": "stream",
     "text": [
      "Python Proapplicationmming\n"
     ]
    }
   ],
   "source": [
    "s = \"Python Programming\"\n",
    "print(s.replace(\"gra\",\"application\"))"
   ]
  },
  {
   "cell_type": "markdown",
   "metadata": {},
   "source": [
    "# Python--Tuples"
   ]
  },
  {
   "cell_type": "code",
   "execution_count": 55,
   "metadata": {},
   "outputs": [
    {
     "name": "stdout",
     "output_type": "stream",
     "text": [
      "['Python', 'Programming', '1989', '2019', 'Machine', 'learning', 'Al']\n",
      "(1, 2, 3, 4, 5)\n"
     ]
    }
   ],
   "source": [
    "t1 = [\"Python\",\"Programming\",\"1989\",\"2019\",\"Machine\",\"learning\",\"Al\"]\n",
    "t2 = (1,2,3,4,5)\n",
    "print(t1)\n",
    "print(t2)"
   ]
  },
  {
   "cell_type": "code",
   "execution_count": 59,
   "metadata": {},
   "outputs": [
    {
     "name": "stdout",
     "output_type": "stream",
     "text": [
      "t1[0]) =  Python\n",
      "t1[2]) =  1989\n",
      "t1[-1]) =  AI\n",
      "t1[1:4]) =  ['Programming', '1989', '2019']\n",
      "t1[2:-2]) =  ['1989', '2019', 'Machine']\n"
     ]
    }
   ],
   "source": [
    "t1 = [\"Python\",\"Programming\",\"1989\",\"2019\",\"Machine\",\"learning\",\"AI\"]\n",
    "print(\"t1[0]) = \",t1[0])\n",
    "print(\"t1[2]) = \",t1[2])\n",
    "print(\"t1[-1]) = \",t1[-1])\n",
    "print(\"t1[1:4]) = \",t1[1:4])\n",
    "print(\"t1[2:-2]) = \",t1[2:-2])\n"
   ]
  },
  {
   "cell_type": "code",
   "execution_count": 61,
   "metadata": {},
   "outputs": [
    {
     "name": "stdout",
     "output_type": "stream",
     "text": [
      "['Python', 'Programming', '1989', '2019', 'Machine', 'learning', 'AI']\n"
     ]
    }
   ],
   "source": [
    "t1 = [\"Python\",\"Programming\",\"1989\",\"2019\",\"Machine\",\"learning\",\"AI\"]\n",
    "print(t1)\n",
    "t1[2]=2018"
   ]
  },
  {
   "cell_type": "code",
   "execution_count": null,
   "metadata": {},
   "outputs": [],
   "source": [
    "t1 = (\"Python\",\"Programming\")\n",
    "t2 =('1989\",\"2019\",\"Machine\",\"learning\",\"AI\"]\n",
    "     "
   ]
  },
  {
   "cell_type": "markdown",
   "metadata": {},
   "source": [
    "# Python--Dictionary"
   ]
  },
  {
   "cell_type": "code",
   "execution_count": 79,
   "metadata": {},
   "outputs": [
    {
     "name": "stdout",
     "output_type": "stream",
     "text": [
      "User1[Name]= Anil\n",
      "User1[Age]= 19\n",
      "User1[Emailid]= anil@gmail.com\n",
      "User1[Mobileno]= 9985662544\n"
     ]
    }
   ],
   "source": [
    "User1 = {'Name':'Anil','Age':'19','Emailid':'anil@gmail.com','Mobileno':'9985662544'}\n",
    "print(\"User1[Name]=\",User1['Name'])\n",
    "print(\"User1[Age]=\",User1['Age'])\n",
    "print(\"User1[Emailid]=\",User1['Emailid'])\n",
    "print(\"User1[Mobileno]=\",User1['Mobileno'])    "
   ]
  },
  {
   "cell_type": "code",
   "execution_count": 81,
   "metadata": {},
   "outputs": [
    {
     "name": "stdout",
     "output_type": "stream",
     "text": [
      "user1[Name] = Anil\n",
      "user1[Age] = 29\n",
      "user1[EmailID]= anil@gmail.com\n",
      "user1[Address]= Gitam University\n",
      "user1[Mobile Number]= 93258147374\n"
     ]
    }
   ],
   "source": [
    "user1 = {'Name':'Anil','Age':'29','EmailID':'anil@gmail.com','Mobile Number':'93258147374','Address':'Gitam University'}\n",
    "print(\"user1[Name] =\",user1['Name'])\n",
    "print(\"user1[Age] =\",user1['Age'])\n",
    "print(\"user1[EmailID]=\",user1['EmailID'])\n",
    "print(\"user1[Address]=\",user1['Address'])\n",
    "print(\"user1[Mobile Number]=\",user1['Mobile Number'])"
   ]
  },
  {
   "cell_type": "code",
   "execution_count": 85,
   "metadata": {},
   "outputs": [],
   "source": [
    "user1 = {'Name':'Anil','Age':29,'EmailID':'anil@gmail.com','Mobile Number':'93258147374'}\n",
    "del user1['EmailID']\n",
    "user1.clear()\n",
    "del user1"
   ]
  },
  {
   "cell_type": "code",
   "execution_count": 90,
   "metadata": {},
   "outputs": [
    {
     "name": "stdout",
     "output_type": "stream",
     "text": [
      "{'Name': 'Anil', 'Age': '29', 'EmailID': 'anil@gmail.com', 'Mobile Number': '93258147374'}\n",
      "{'Name': 'Anil', 'Age': '29', 'EmailID': 'anil@gmail.com', 'Mobile Number': '93258147374'}\n",
      "{'Name': 'Anil', 'Age': '29', 'EmailID': 'anil@gmail.com', 'Mobile Number': '93258147374', 'Address': 'Hyderabad'}\n",
      "{'Name': 'Anil', 'Age': '29', 'EmailID': 'anil@gmail.com', 'Mobile Number': '93258147374'}\n"
     ]
    }
   ],
   "source": [
    "user1 = {'Name':'Anil','Age':'29','EmailID':'anil@gmail.com','Mobile Number':'93258147374'}\n",
    "user2 = user1.copy()\n",
    "\n",
    "print(user1)\n",
    "print(user2)\n",
    "user1['Address']= 'Hyderabad'\n",
    "print(user1)\n",
    "print(user2)"
   ]
  },
  {
   "cell_type": "code",
   "execution_count": 92,
   "metadata": {},
   "outputs": [
    {
     "name": "stdout",
     "output_type": "stream",
     "text": [
      "dict_items([('Name', 'Anil'), ('Age', '29'), ('EmailID', 'anil@gmail.com'), ('Mobile Number', '93258147374')])\n"
     ]
    }
   ],
   "source": [
    "user1 = {'Name':'Anil','Age':'29','EmailID':'anil@gmail.com','Mobile Number':'93258147374'}\n",
    "print(user1.items())"
   ]
  },
  {
   "cell_type": "code",
   "execution_count": 94,
   "metadata": {},
   "outputs": [
    {
     "name": "stdout",
     "output_type": "stream",
     "text": [
      "dict_values(['Anil', '29', 'anil@gmail.com', '93258147374'])\n"
     ]
    }
   ],
   "source": [
    "user1 = {'Name':'Anil','Age':'29','EmailID':'anil@gmail.com','Mobile Number':'93258147374'}\n",
    "print(user1.values())"
   ]
  },
  {
   "cell_type": "code",
   "execution_count": 95,
   "metadata": {},
   "outputs": [
    {
     "name": "stdout",
     "output_type": "stream",
     "text": [
      "dict_values(['Anil', '29', 'anil@gmail.com', '93258147374'])\n",
      "dict_values(['Anil', '29', 'anil@gmail.com', '93258147374'])\n"
     ]
    }
   ],
   "source": [
    "user1 = {'Name':'Anil','Age':'29','EmailID':'anil@gmail.com','Mobile Number':'93258147374'}\n",
    "user2 = user1.copy()\n",
    "print(user1.values())\n",
    "print(user2.values())"
   ]
  },
  {
   "cell_type": "markdown",
   "metadata": {},
   "source": [
    "# String Formatting"
   ]
  },
  {
   "cell_type": "code",
   "execution_count": 96,
   "metadata": {},
   "outputs": [
    {
     "name": "stdout",
     "output_type": "stream",
     "text": [
      "pythonProgramming\n"
     ]
    }
   ],
   "source": [
    "lst =['python','Programming']\n",
    "print(\"%s%s\"%(lst[0],lst[1]))"
   ]
  },
  {
   "cell_type": "code",
   "execution_count": 98,
   "metadata": {},
   "outputs": [
    {
     "name": "stdout",
     "output_type": "stream",
     "text": [
      "True\n"
     ]
    }
   ],
   "source": [
    "print('Hello!2@#World'.istitle())"
   ]
  },
  {
   "cell_type": "code",
   "execution_count": 99,
   "metadata": {},
   "outputs": [
    {
     "name": "stdout",
     "output_type": "stream",
     "text": [
      "['ab', 'ef', 'ghcd']\n"
     ]
    }
   ],
   "source": [
    "print('abcdefcdghcd'.split('cd', 2))"
   ]
  },
  {
   "cell_type": "code",
   "execution_count": 18,
   "metadata": {},
   "outputs": [
    {
     "name": "stdout",
     "output_type": "stream",
     "text": [
      "Contact bhanu added\n",
      "Contact Harsha added\n",
      "Contact bhanu already exists\n"
     ]
    }
   ],
   "source": [
    "contact ={}\n",
    "def addContact(name,phone):\n",
    "    if name not in contact:\n",
    "        contact[name] = phone\n",
    "        print(\"Contact %s added\" % name)\n",
    "    else: \n",
    "            print(\"Contact %s already exists\" % name)\n",
    "    return\n",
    "\n",
    "addContact(\"bhanu\",9642573777)\n",
    "addContact(\"Harsha\",996633221)\n",
    "addContact(\"bhanu\",9988774466)"
   ]
  },
  {
   "cell_type": "code",
   "execution_count": 19,
   "metadata": {},
   "outputs": [
    {
     "name": "stdout",
     "output_type": "stream",
     "text": [
      "bhanu : 9642573777\n",
      "harsha does not exist\n",
      "anil does not exist\n",
      "kranth does not exist\n"
     ]
    }
   ],
   "source": [
    "\n",
    "def searchcontact(name):\n",
    "   if name in contact:\n",
    "       print(name,\":\",contact[name])\n",
    "   else:\n",
    "       print(\"%s does not exist\" % name)\n",
    "   return\n",
    "searchcontact(\"bhanu\")\n",
    "searchcontact(\"harsha\")\n",
    "searchcontact(\"anil\")\n",
    "searchcontact(\"kranth\")"
   ]
  },
  {
   "cell_type": "code",
   "execution_count": 20,
   "metadata": {},
   "outputs": [
    {
     "name": "stdout",
     "output_type": "stream",
     "text": [
      "2 contacts added successfully\n"
     ]
    }
   ],
   "source": [
    "def importcontact(newcontact):\n",
    "    contact.update(newcontact)\n",
    "    print(len(newcontact.keys()),\"contacts added successfully\")\n",
    "    return\n",
    "newcontact={'9955112233','86878712'}\n",
    "importcontact(contact)"
   ]
  },
  {
   "cell_type": "code",
   "execution_count": 33,
   "metadata": {},
   "outputs": [
    {
     "name": "stdout",
     "output_type": "stream",
     "text": [
      "harsha : is not exist in the contacts\n",
      "anil : is not exist in the contacts\n"
     ]
    }
   ],
   "source": [
    "def deletecontacts(name):\n",
    "    if name in contact:\n",
    "        del contact [name]\n",
    "        print(name,\": is deleted from the contacts\")\n",
    "    else:\n",
    "        print(name,\": is not exist in the contacts\")\n",
    "    return                 \n",
    "deletecontacts(\"harsha\")\n",
    "deletecontacts(\"anil\")\n",
    "               "
   ]
  },
  {
   "cell_type": "code",
   "execution_count": 37,
   "metadata": {},
   "outputs": [
    {
     "name": "stdout",
     "output_type": "stream",
     "text": [
      "dinesh not exist in the contacts\n",
      "ajay not exist in the contacts\n",
      "{'bhanu': 9642573777, 'Harsha': 996633221}\n"
     ]
    }
   ],
   "source": [
    "def updatecontacts(name,phone):\n",
    "    if name in contact:\n",
    "        contact[name] = phone\n",
    "        print(name,\" : update with new phone number\")\n",
    "    else:\n",
    "        print(name,\"not exist in the contacts\")\n",
    "    return\n",
    "updatecontacts(\"dinesh\",9988776655)\n",
    "updatecontacts(\"ajay\",7766554433)\n",
    "print(contact)"
   ]
  },
  {
   "cell_type": "code",
   "execution_count": null,
   "metadata": {},
   "outputs": [],
   "source": []
  }
 ],
 "metadata": {
  "kernelspec": {
   "display_name": "Python 3",
   "language": "python",
   "name": "python3"
  },
  "language_info": {
   "codemirror_mode": {
    "name": "ipython",
    "version": 3
   },
   "file_extension": ".py",
   "mimetype": "text/x-python",
   "name": "python",
   "nbconvert_exporter": "python",
   "pygments_lexer": "ipython3",
   "version": "3.7.3"
  }
 },
 "nbformat": 4,
 "nbformat_minor": 2
}
